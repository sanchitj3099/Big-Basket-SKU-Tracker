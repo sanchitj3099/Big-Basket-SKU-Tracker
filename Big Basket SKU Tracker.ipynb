{
 "cells": [
  {
   "cell_type": "markdown",
   "metadata": {},
   "source": [
    "# Big Basket SKU Scraper"
   ]
  },
  {
   "cell_type": "code",
   "execution_count": null,
   "metadata": {},
   "outputs": [],
   "source": [
    "import pandas as pd\n",
    "from selenium import webdriver\n",
    "import warnings\n",
    "warnings.filterwarnings(\"ignore\")\n",
    "from time import sleep\n",
    "from selenium.common.exceptions import NoSuchElementException\n",
    "from selenium.common.exceptions import ElementNotInteractableException\n",
    "from datetime import datetime\n",
    "from selenium.webdriver.chrome.options import Options"
   ]
  },
  {
   "cell_type": "code",
   "execution_count": null,
   "metadata": {},
   "outputs": [],
   "source": [
    "pin = pd.read_excel(\"bb_sheet.xlsx\", sheet_name=\"pincode-city\")\n",
    "bb = pd.read_excel(\"bb_sheet.xlsx\", sheet_name=\"bbcode1\")"
   ]
  },
  {
   "cell_type": "code",
   "execution_count": null,
   "metadata": {},
   "outputs": [],
   "source": [
    "pin"
   ]
  },
  {
   "cell_type": "code",
   "execution_count": null,
   "metadata": {},
   "outputs": [],
   "source": [
    "bb"
   ]
  },
  {
   "cell_type": "code",
   "execution_count": null,
   "metadata": {},
   "outputs": [],
   "source": [
    "a = pin.copy()\n",
    "for i in range(len(bb)-1):\n",
    "     a = pd.concat([a,pin])"
   ]
  },
  {
   "cell_type": "code",
   "execution_count": null,
   "metadata": {},
   "outputs": [],
   "source": [
    "a"
   ]
  },
  {
   "cell_type": "code",
   "execution_count": null,
   "metadata": {},
   "outputs": [],
   "source": [
    "b = bb.copy()\n",
    "for i in range(len(pin)-1):\n",
    "    b = pd.concat([b,bb])"
   ]
  },
  {
   "cell_type": "code",
   "execution_count": null,
   "metadata": {},
   "outputs": [],
   "source": [
    "b"
   ]
  },
  {
   "cell_type": "code",
   "execution_count": null,
   "metadata": {},
   "outputs": [],
   "source": [
    "b.sort_index(inplace=True)"
   ]
  },
  {
   "cell_type": "code",
   "execution_count": null,
   "metadata": {},
   "outputs": [],
   "source": [
    "a[\"BB Code\"] = list(b[\"BB Code\"])\n",
    "a[\"Product\"] = list(b[\"Product\"])"
   ]
  },
  {
   "cell_type": "code",
   "execution_count": null,
   "metadata": {},
   "outputs": [],
   "source": [
    "a"
   ]
  },
  {
   "cell_type": "code",
   "execution_count": null,
   "metadata": {},
   "outputs": [],
   "source": [
    "a.reset_index(inplace=True)"
   ]
  },
  {
   "cell_type": "code",
   "execution_count": null,
   "metadata": {},
   "outputs": [],
   "source": [
    "a.drop(\"index\",axis=1,inplace=True)"
   ]
  },
  {
   "cell_type": "code",
   "execution_count": null,
   "metadata": {},
   "outputs": [],
   "source": [
    "bbcode = list(a[\"BB Code\"])\n",
    "pincode = list(a[\"Pincode\"])\n",
    "city = list(a[\"City\"])"
   ]
  },
  {
   "cell_type": "code",
   "execution_count": null,
   "metadata": {},
   "outputs": [],
   "source": [
    "path = r\"C:\\Users\\Sanchit\\Downloads\\chromedriver.exe\"\n",
    "options = Options()\n",
    "options.add_argument('--headless')\n",
    "options.add_argument('--disable-gpu')  \n",
    "options.add_argument('--no-sandbox')\n",
    "options.add_argument('window-size=1920x1080')"
   ]
  },
  {
   "cell_type": "code",
   "execution_count": null,
   "metadata": {},
   "outputs": [],
   "source": [
    "# price = []\n",
    "# avail = []\n",
    "# date = []\n",
    "# time = []\n",
    "# bbcodes = []\n",
    "# star = []\n",
    "# no_ratings = []\n",
    "# no_reviews = []\n",
    "count = 0\n",
    "df = {\"Date\":[],\"Pincode\":[],\"City\":[],\"BB Code\":[],\"Selling Price\":[],\"Availability\":[]}"
   ]
  },
  {
   "cell_type": "code",
   "execution_count": null,
   "metadata": {
    "scrolled": true
   },
   "outputs": [],
   "source": [
    "for i in range(151,len(bbcode)):\n",
    "    browser = webdriver.Chrome(executable_path=path,chrome_options=options)\n",
    "    browser.get(\"https://www.bigbasket.com/pd/\"+str(bbcode[i])+\"/\")\n",
    "    sleep(3)\n",
    "\n",
    "    pincode_button = browser.find_element_by_class_name('_1N37e')\n",
    "    pincode_button.click()\n",
    "    sleep(3)\n",
    "        \n",
    "    city_button = browser.find_element_by_class_name('_2xkur')\n",
    "    city_button.click()\n",
    "    sleep(1)\n",
    "    city_name = browser.find_element_by_xpath(\"/html/body/div[1]/div/div[1]/div[2]/div/div/div[2]/div[1]/input\")\n",
    "    city_name.send_keys(city[i])\n",
    "    df[\"City\"].append(city[i])\n",
    "    browser.find_element_by_class_name(\"oXkKp\").click()\n",
    "    \n",
    "    pc = browser.find_element_by_xpath(\"//*[@id='modal']/div/div/div[2]/div[2]/input\")\n",
    "    pc.send_keys(str(pincode[i]))\n",
    "    df[\"Pincode\"].append(pincode[i])\n",
    "    sleep(3)\n",
    "        \n",
    "    try:\n",
    "        pincode_button = browser.find_element_by_xpath(\"//*[@id='modal']/div/div/div[2]/div[2]/div\")\n",
    "        pincode_button.click()\n",
    "        sleep(1)\n",
    "        browser.find_element_by_xpath(\"//*[@id='modal']/div/div/div[2]/form/button\").click()\n",
    "        sleep(1)\n",
    "            \n",
    "        try:\n",
    "            sp = browser.find_element_by_class_name('IyLvo')\n",
    "            sp = sp.text\n",
    "            sp = sp.replace('Rs ','')\n",
    "            sp = float(sp)\n",
    "            df[\"Selling Price\"].append(sp)               \n",
    "            \n",
    "        except NoSuchElementException:\n",
    "            try:\n",
    "                sp = browser.find_element_by_xpath('//*[@id=\"siteLayout\"]/div/div/div[1]/section[1]/table/tbody/tr[1]/td[2]/text()')\n",
    "                sp = sp.text\n",
    "                sp = sp.replace('₹','')\n",
    "                sp = sp.replace('Price: ','')\n",
    "                sp = float(sp)\n",
    "                df[\"Selling Price\"].append(sp)\n",
    "            except NoSuchElementException:\n",
    "                df[\"Selling Price\"].append(0)\n",
    "                \n",
    "            \n",
    "        try:\n",
    "            availability = browser.find_element_by_class_name(\"_36qqs\")\n",
    "            df[\"Availability\"].append(\"Not Available\")\n",
    "        \n",
    "        except NoSuchElementException:\n",
    "            try:\n",
    "                availability = browser.find_element_by_xpath('//*[@id=\"siteLayout\"]/div/div/section[4]/div[2]/div/span')\n",
    "                df[\"Availability\"].append('Not Available')\n",
    "            \n",
    "            except NoSuchElementException:\n",
    "                df[\"Availability\"].append(\"Available\")\n",
    "\n",
    "        now = datetime.now()\n",
    "        df[\"Date\"].append(now)\n",
    "\n",
    "    except ElementNotInteractableException:\n",
    "        df[\"Selling Price\"].append(0)\n",
    "        df[\"Availability\"].append(\"Address not deliverable\")\n",
    "        now = datetime.now()\n",
    "        df[\"Date\"].append(now)\n",
    "    df[\"BB Code\"].append(bbcode[i])\n",
    "    count+=1\n",
    "    print(count)\n",
    "    browser.close()"
   ]
  },
  {
   "cell_type": "code",
   "execution_count": null,
   "metadata": {},
   "outputs": [],
   "source": [
    "from collections import Counter\n",
    "res = Counter(df[\"City\"])"
   ]
  },
  {
   "cell_type": "code",
   "execution_count": null,
   "metadata": {},
   "outputs": [],
   "source": [
    "res"
   ]
  },
  {
   "cell_type": "code",
   "execution_count": null,
   "metadata": {},
   "outputs": [],
   "source": [
    "# df[\"BB Code\"].pop(70)"
   ]
  },
  {
   "cell_type": "code",
   "execution_count": null,
   "metadata": {},
   "outputs": [],
   "source": [
    "# res = Counter(df[\"BB Code\"])\n",
    "# res"
   ]
  },
  {
   "cell_type": "code",
   "execution_count": null,
   "metadata": {},
   "outputs": [],
   "source": [
    "fin = pd.DataFrame.from_dict(df)"
   ]
  },
  {
   "cell_type": "code",
   "execution_count": null,
   "metadata": {},
   "outputs": [],
   "source": [
    "fin"
   ]
  },
  {
   "cell_type": "code",
   "execution_count": null,
   "metadata": {},
   "outputs": [],
   "source": [
    "from datetime import timedelta\n",
    "fin[\"Date\"] = pd.to_datetime(fin['Date'].astype(str)) + timedelta(hours=5,minutes=30)"
   ]
  },
  {
   "cell_type": "code",
   "execution_count": null,
   "metadata": {},
   "outputs": [],
   "source": [
    "fin"
   ]
  },
  {
   "cell_type": "code",
   "execution_count": null,
   "metadata": {},
   "outputs": [],
   "source": [
    "fin.to_excel(\"bb_fin_sheet1.xlsx\")"
   ]
  },
  {
   "cell_type": "code",
   "execution_count": null,
   "metadata": {},
   "outputs": [],
   "source": []
  },
  {
   "cell_type": "code",
   "execution_count": null,
   "metadata": {},
   "outputs": [],
   "source": []
  },
  {
   "cell_type": "code",
   "execution_count": null,
   "metadata": {},
   "outputs": [],
   "source": []
  },
  {
   "cell_type": "code",
   "execution_count": null,
   "metadata": {},
   "outputs": [],
   "source": []
  }
 ],
 "metadata": {
  "kernelspec": {
   "display_name": "Python 3 (ipykernel)",
   "language": "python",
   "name": "python3"
  },
  "language_info": {
   "codemirror_mode": {
    "name": "ipython",
    "version": 3
   },
   "file_extension": ".py",
   "mimetype": "text/x-python",
   "name": "python",
   "nbconvert_exporter": "python",
   "pygments_lexer": "ipython3",
   "version": "3.11.4"
  }
 },
 "nbformat": 4,
 "nbformat_minor": 4
}
